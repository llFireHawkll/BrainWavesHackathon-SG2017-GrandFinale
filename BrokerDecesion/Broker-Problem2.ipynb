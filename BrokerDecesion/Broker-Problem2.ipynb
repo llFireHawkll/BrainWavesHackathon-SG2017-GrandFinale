{
 "cells": [
  {
   "cell_type": "code",
   "execution_count": 8,
   "metadata": {},
   "outputs": [],
   "source": [
    "from tika import parser\n",
    "import re\n",
    "from nltk.tokenize import sent_tokenize, word_tokenize\n",
    "from nltk.corpus import stopwords"
   ]
  },
  {
   "cell_type": "code",
   "execution_count": 2,
   "metadata": {},
   "outputs": [],
   "source": [
    "TrainDataPath = './data_broker/participant_data/train/SIZE INCREASE  Listed Fills - HSCEI JUN17 8800 11200 RR (Put)    @143  Ref 9700  ELI-927693425 427 430.msg.pdf'"
   ]
  },
  {
   "cell_type": "code",
   "execution_count": 4,
   "metadata": {},
   "outputs": [],
   "source": []
  },
  {
   "cell_type": "code",
   "execution_count": 39,
   "metadata": {},
   "outputs": [],
   "source": [
    "parsedPDF = parser.from_file(TrainDataPath)"
   ]
  },
  {
   "cell_type": "code",
   "execution_count": 40,
   "metadata": {},
   "outputs": [],
   "source": [
    "text = parsedPDF['content']"
   ]
  },
  {
   "cell_type": "code",
   "execution_count": 41,
   "metadata": {
    "scrolled": false
   },
   "outputs": [
    {
     "data": {
      "text/plain": [
       "'\\n\\n\\n\\n\\n\\n\\n\\n\\n\\n\\n\\n\\n\\n\\n\\n\\n\\n\\n\\n\\n\\n\\n\\n\\n\\n\\n\\n\\n\\n\\n\\n\\n\\n\\n\\n\\n\\n\\n\\n\\n\\n\\n\\n\\n\\n\\n\\n\\n\\n\\n\\nTrade Confirmation\\n\\n\\nTrade Ref 0000075635/1/S\\n\\nTrade Date 03 February 2017\\n\\nUnderlying HSCEI\\n\\nStrategy European Risk Reversal (Put)\\n\\nTO\\n\\n1,406,500,000.00\\n\\nListed Options Crossed\\n\\nTrade Confirmation\\n\\nTotal Premium (HKD) 20,735,000.00\\n\\nFuture Ref (HKD) 9,700.000000\\n\\nSettlement Details\\n\\nCash settlement with T+1.\\n\\nOther Terms\\n\\nThe H-shares Index Futures Final Settlement Price is determined by taking the H-Share Index EAS system.\\n\\nNotional Amount (HKD)\\n\\nFROM\\n\\nDelta % 34.00\\n\\nNon-Swapswire Trade\\n\\nCommencement Date 03 February 2017\\n\\nListed Trade Confirmation for HSCEI - Local strike and local settlement\\n\\nImplied Spot Ref (HKD) 9,700.000000\\n\\nTrade Hedge for Societe Generale, Paris\\n\\nDescription JUN17 8800 11200 RR (Put)\\n\\nPrice 143.0000\\n\\n42,195.00Total Commission (HKD)\\n\\nOper5\\n\\nSG, BLR\\n\\nNo of Options Expiry C/P Premium per Unit (HKD) Premium per Leg (HKD)B/S Strike (HKD)\\n\\n2,900 JUN 17 (6/29/2017) 8,800.000000 PUT 187.000000 27,115,000.00Sell\\n\\n2,900 JUN 17 (6/29/2017) 11,200.000000 CALL 44.000000 6,380,000.00Buy\\n\\nThe Honorable Charles W. Anderson (Dear Mr. Ambassador:)\\nDepartment of State\\n2050 Bamako Place\\nWashington, DC 20521-2050\\n\\nEmail: operbrokers5@sg.com\\n\\nSELL 986 Future Exp -  FEB 17  (2/27/2017) @ 9,700.0000\\n\\n\\n'"
      ]
     },
     "execution_count": 41,
     "metadata": {},
     "output_type": "execute_result"
    }
   ],
   "source": [
    "text"
   ]
  },
  {
   "cell_type": "code",
   "execution_count": 42,
   "metadata": {},
   "outputs": [],
   "source": [
    "pattern = r'Trade Date (\\d+\\s[a-zA-Z]+\\s\\d{4})' # FOR BROKER 5 Trade Date\n",
    "temp = re.findall(pattern, text)"
   ]
  },
  {
   "cell_type": "code",
   "execution_count": 43,
   "metadata": {},
   "outputs": [
    {
     "data": {
      "text/plain": [
       "['03 February 2017']"
      ]
     },
     "execution_count": 43,
     "metadata": {},
     "output_type": "execute_result"
    }
   ],
   "source": [
    "temp"
   ]
  },
  {
   "cell_type": "code",
   "execution_count": 64,
   "metadata": {},
   "outputs": [],
   "source": [
    "TrainDataPath = './data_broker/participant_data/train/ZUYM7U7 - 16Jun17 - Confirmation  ELI-959643018 3019 3020.msg.pdf'"
   ]
  },
  {
   "cell_type": "code",
   "execution_count": 65,
   "metadata": {},
   "outputs": [],
   "source": [
    "parsedPDF = parser.from_file(TrainDataPath)"
   ]
  },
  {
   "cell_type": "code",
   "execution_count": 66,
   "metadata": {},
   "outputs": [],
   "source": [
    "text = parsedPDF['content']"
   ]
  },
  {
   "cell_type": "code",
   "execution_count": 67,
   "metadata": {},
   "outputs": [
    {
     "data": {
      "text/plain": [
       "'\\n\\n\\n\\n\\n\\n\\n\\n\\n\\n\\n\\n\\n\\n\\n\\n\\n\\n\\n\\n\\n\\n\\n\\n\\n\\n\\n\\n\\n\\n\\n\\n\\n\\n\\n\\n\\nOTCex Emergings | EM Equity Derivatives | 22 rue des Capucines, 75002 Paris, France\\n\\nWe wish to confirm the following transaction which was executed for your account and risk today:\\n\\nClient: Societe Generale | Trader: Broker4 - Account Number: AB670\\n\\nBroker4 confirm no: 746717\\n\\nTrade Date: 16-Jun-17\\n\\nTrade Type: Listed\\n\\nUnderlying: MSD Index\\nFutures\\n\\nCode: AS4\\n\\nExchange: Indian Exchange\\n\\nCurrency: USD\\n\\nComment: ZUYM7U7 @ 0.48% - 16Jun17\\n\\nUnderlying Buy/Sell Contracts Future Expiry Price\\n\\nFuture Roll Sell 481 Future 16 Jun 2017 729\\n\\nBuy 481 Future 15 Sep 2017 732.4992\\n\\nBreakdown\\n1 Futures at USD\\n732.0\\n480 Futures at USD\\n732.5\\n\\nNotional: USD 17 532 450\\nBrokerage Fee:\\n\\nTotal Brokerage Fee: USD 877\\n\\nEmail: OperBOrker4@sg.com\\n\\n\\n'"
      ]
     },
     "execution_count": 67,
     "metadata": {},
     "output_type": "execute_result"
    }
   ],
   "source": [
    "text"
   ]
  },
  {
   "cell_type": "code",
   "execution_count": 68,
   "metadata": {},
   "outputs": [],
   "source": [
    "pattern = r'Trade Date: (\\d+-[a-zA-Z]+-\\d{2,4})' # FOR BROKER 4 Trade Date\n",
    "temp = re.findall(pattern, text)"
   ]
  },
  {
   "cell_type": "code",
   "execution_count": 69,
   "metadata": {},
   "outputs": [
    {
     "data": {
      "text/plain": [
       "['16-Jun-17']"
      ]
     },
     "execution_count": 69,
     "metadata": {},
     "output_type": "execute_result"
    }
   ],
   "source": [
    "temp"
   ]
  },
  {
   "cell_type": "code",
   "execution_count": null,
   "metadata": {},
   "outputs": [],
   "source": []
  },
  {
   "cell_type": "code",
   "execution_count": null,
   "metadata": {},
   "outputs": [],
   "source": []
  },
  {
   "cell_type": "code",
   "execution_count": null,
   "metadata": {},
   "outputs": [],
   "source": []
  },
  {
   "cell_type": "code",
   "execution_count": 75,
   "metadata": {},
   "outputs": [],
   "source": [
    "TrainDataPath = './data_broker/participant_data/train/Broker1 Brokers Hong Kong LTD  Trade Confirmation broker177747 - Asset - Put  ELI-921163913 ELI-921163914.msg.pdf'"
   ]
  },
  {
   "cell_type": "code",
   "execution_count": 76,
   "metadata": {},
   "outputs": [],
   "source": [
    "parsedPDF = parser.from_file(TrainDataPath)"
   ]
  },
  {
   "cell_type": "code",
   "execution_count": 77,
   "metadata": {},
   "outputs": [
    {
     "data": {
      "text/plain": [
       "'\\n\\n\\n\\n\\n\\n\\n\\n\\n\\n\\n\\n\\n\\n\\n\\n\\n\\n\\n\\n\\n\\n\\n\\n\\n\\n\\n\\n\\n\\n\\n\\n\\nh77747_confirm_Buyer\\n\\n\\nHONG KONG\\n\\nPowered by mBOSStm\\n\\nTRADE CONFIRMATION REFERENCE: broker177747\\n\\nTO SG,Broker1\\n\\nTRADER oper1\\n\\nTRANSMISSION Email (oper1@sg.com) \\n\\nTRADE DATE 06 January 2017\\n\\nUNDERLYING ASSET NAME                                                    Asset\\n\\nREUTERS INSTRUMENT CODE AS200\\n\\nBLOOMBERG CODE AS2\\n\\nSTRUCTURE TYPE Put\\n\\nSETTLEMENT CURRENCY                                                       India INR\\n\\nDELTA 71%\\n\\nEXCHANGE Indian Exchange\\n\\nSWAPSWIRE No\\n\\nSUMMARY OF TRADES\\n\\nOPTION TRADES\\n\\nLeg YOU: No. of Units Maturity Strike ExerciseStyle Leg Price Per Option Total Premium\\n\\na BUY 300 9 Mar 2017 250 European Put 1.4 210,000,000\\n\\nNet Premium 210,000,000 KRW\\n\\nLISTED FUTURES TRADES\\n\\nLeg YOU: No. of Units Maturity Cross / Level\\n\\nb BUY 51 9 Mar 2017 263\\n\\nOTHER TERMS FX: 1191\\n\\nCOUNTERPARTY Exchange\\n\\nNET AMOUNT DUE TO COUNTERPARTY  210,000,000\\n\\nBroker1 BROKERS HONG KONG BROKERAGE FEE US Dollars 994 \\n\\nBroker1 BROKERS HONG KONG PAYMENT DETAILS FOR BANK TRANSFERS\\n\\n\\n\\th77747_confirm_Buyer\\n\\n'"
      ]
     },
     "execution_count": 77,
     "metadata": {},
     "output_type": "execute_result"
    }
   ],
   "source": [
    "text = parsedPDF['content']\n",
    "text"
   ]
  },
  {
   "cell_type": "code",
   "execution_count": 78,
   "metadata": {},
   "outputs": [],
   "source": [
    "pattern = r'TRADE DATE (\\d+\\s[a-zA-Z]+\\s\\d{2,4})' # FOR BROKER 1 Trade Date\n",
    "temp = re.findall(pattern, text)"
   ]
  },
  {
   "cell_type": "code",
   "execution_count": 79,
   "metadata": {},
   "outputs": [
    {
     "data": {
      "text/plain": [
       "['06 January 2017']"
      ]
     },
     "execution_count": 79,
     "metadata": {},
     "output_type": "execute_result"
    }
   ],
   "source": [
    "temp"
   ]
  },
  {
   "cell_type": "code",
   "execution_count": null,
   "metadata": {},
   "outputs": [],
   "source": []
  },
  {
   "cell_type": "code",
   "execution_count": null,
   "metadata": {},
   "outputs": [],
   "source": []
  },
  {
   "cell_type": "code",
   "execution_count": 86,
   "metadata": {},
   "outputs": [],
   "source": [
    "TrainDataPath = './data_broker/participant_data/train/Broker2Test1 ELI-958616944(4).pdf'"
   ]
  },
  {
   "cell_type": "code",
   "execution_count": 87,
   "metadata": {},
   "outputs": [
    {
     "data": {
      "text/plain": [
       "'\\n\\n\\n\\n\\n\\n\\n\\n\\n\\n\\n\\n\\n\\n\\n\\n\\n\\n\\n\\n\\n\\n\\n\\n\\n\\n\\n\\n\\nTrade confirm SW024507 on trade date 13 Jun 2017\\n\\nWe are pleased to confirm the details of your Equity Derivatives transaction\\n\\nOther terms\\n\\nTrade details\\n\\nBrokerage\\n\\nCalculated by Per contract Our broker SMI Rate 1 Brokerage CHF 300\\n\\nMarket Eurex Underlying xxxxxxxxxxxxx Strategy Put OTC/Exchange Exchange\\n\\nCurrency Swiss Franc (CHF)\\n\\nSeller of Strategy xxxxxxxxxxxxxxx Your trader xxxxxxxxxxxxx\\n\\nOption premium\\npayment date Implied spot level 8,860\\n\\nDelta hedge Underlying Hedge cross level 8,860\\n\\nDELTA 47. you SELL 141 JUNE SMI futures @ 8860\\n\\nYou No. Units Multiplier Maturity Settlement Str/Ctct Price Style Instrument % Premium Prem/Ins (CHF) Total Prem Spot X Size\\n\\nSold 300 10 15 Dec 2017 N/A 8,800 European Put N/A 330 990,000 26,580,000\\n\\nCHF 330 990,000Total net premium per strategy / on whole strategy due\\n\\nBroker 2\\n\\n\\n'"
      ]
     },
     "execution_count": 87,
     "metadata": {},
     "output_type": "execute_result"
    }
   ],
   "source": [
    "parsedPDF = parser.from_file(TrainDataPath)\n",
    "text = parsedPDF['content']\n",
    "text"
   ]
  },
  {
   "cell_type": "code",
   "execution_count": 88,
   "metadata": {},
   "outputs": [],
   "source": [
    "pattern = r'trade date (\\d+\\s[a-zA-Z]+\\s\\d{2,4})' # FOR BROKER 2 Trade Date\n",
    "temp = re.findall(pattern, text)"
   ]
  },
  {
   "cell_type": "code",
   "execution_count": 89,
   "metadata": {},
   "outputs": [
    {
     "data": {
      "text/plain": [
       "['13 Jun 2017']"
      ]
     },
     "execution_count": 89,
     "metadata": {},
     "output_type": "execute_result"
    }
   ],
   "source": [
    "temp"
   ]
  },
  {
   "cell_type": "code",
   "execution_count": 93,
   "metadata": {},
   "outputs": [],
   "source": [
    "t = 'TD April 18 2017  ELI-944948465 69 73.msg'"
   ]
  },
  {
   "cell_type": "code",
   "execution_count": 94,
   "metadata": {},
   "outputs": [],
   "source": [
    "pattern = r'TD ([a-zA-Z]+\\s\\d{1,2}\\s\\d{4})' # FOR TD from list of names\n",
    "temp = re.findall(pattern, t)"
   ]
  },
  {
   "cell_type": "code",
   "execution_count": 95,
   "metadata": {},
   "outputs": [
    {
     "data": {
      "text/plain": [
       "['April 18 2017']"
      ]
     },
     "execution_count": 95,
     "metadata": {},
     "output_type": "execute_result"
    }
   ],
   "source": [
    "temp"
   ]
  },
  {
   "cell_type": "code",
   "execution_count": 98,
   "metadata": {},
   "outputs": [],
   "source": [
    "TrainDataPath = './data_broker/participant_data/train/Broker1  Brokers Hong Kong LTD  Trade Confirmation Broker180368 - Asset - Calendar Put Spread   ELI-932270312 ELI-932270313 ELI-932270311 ELI-932270314.msg.pdf'"
   ]
  },
  {
   "cell_type": "code",
   "execution_count": 99,
   "metadata": {},
   "outputs": [
    {
     "data": {
      "text/plain": [
       "'\\n\\n\\n\\n\\n\\n\\n\\n\\n\\n\\n\\n\\n\\n\\n\\n\\n\\n\\n\\n\\n\\n\\n\\n\\n\\n\\n\\n\\n\\n\\n\\n\\nh80368_confirm_Buyer\\n\\n\\nHONG KONG\\n\\nPowered by mBOSStm\\n\\nTRADE CONFIRMATION REFERENCE: Broker180368\\n\\nTO SG, Broker1\\n\\nTRADER oper1\\n\\nTRANSMISSION Email (oper1@sg.com) \\n\\nTRADE DATE 23 February 2017\\n\\nUNDERLYING ASSET NAME Asset\\n\\nREUTERS INSTRUMENT CODE AS200\\n\\nBLOOMBERG CODE AS2\\n\\nSTRUCTURE TYPE Calendar Put Spread\\n\\nSETTLEMENT CURRENCY India INR\\n\\nDELTA 21%\\n\\nEXCHANGE Indian Exchange\\n\\nSWAPSWIRE No\\n\\nSUMMARY OF TRADES\\n\\nOPTION TRADES\\n\\nLeg YOU: No. of Units Maturity Strike ExerciseStyle Leg Price Per Option Total Premium\\n\\na BUY 100 14 Dec 2017 250 European Put 4.98 249,000,000\\n\\nb BUY 100 14 Dec 2017 250 European Put 4.97 248,500,000\\n\\nc SELL 200 8 Jun 2017 250 European Put 1 100,000,000\\n\\nNet Premium 397,500,000 KRW\\n\\nLISTED FUTURES TRADES\\n\\nLeg YOU: No. of Units Maturity Cross / Level\\n\\nd BUY 24 9 Mar 2017 273\\n\\nOTHER TERMS FX: 1138\\n\\nCOUNTERPARTY Exchange\\n\\nNET AMOUNT DUE TO COUNTERPARTY  397,500,000\\n\\nBroker1 BROKERS HONG KONG BROKERAGE FEEUS Dollars 720 \\n\\n\\n\\th80368_confirm_Buyer\\n\\n'"
      ]
     },
     "execution_count": 99,
     "metadata": {},
     "output_type": "execute_result"
    }
   ],
   "source": [
    "parsedPDF = parser.from_file(TrainDataPath)\n",
    "text = parsedPDF['content']\n",
    "text"
   ]
  },
  {
   "cell_type": "code",
   "execution_count": 102,
   "metadata": {},
   "outputs": [],
   "source": [
    "pattern = r'a (BUY)' # FOR BROKER 2 Trade Date\n",
    "temp = re.findall(pattern, text)"
   ]
  },
  {
   "cell_type": "code",
   "execution_count": 103,
   "metadata": {},
   "outputs": [
    {
     "data": {
      "text/plain": [
       "['BUY']"
      ]
     },
     "execution_count": 103,
     "metadata": {},
     "output_type": "execute_result"
    }
   ],
   "source": [
    "temp"
   ]
  },
  {
   "cell_type": "code",
   "execution_count": null,
   "metadata": {},
   "outputs": [],
   "source": []
  },
  {
   "cell_type": "code",
   "execution_count": null,
   "metadata": {},
   "outputs": [],
   "source": []
  },
  {
   "cell_type": "code",
   "execution_count": 118,
   "metadata": {},
   "outputs": [],
   "source": [
    "TrainDataPath = './data_broker/participant_data/train/IICH7M7 vs 20Feb17 - Confirmation  ELI-931503303 931516592.msg.pdf'"
   ]
  },
  {
   "cell_type": "code",
   "execution_count": 119,
   "metadata": {},
   "outputs": [
    {
     "data": {
      "text/plain": [
       "'\\n\\n\\n\\n\\n\\n\\n\\n\\n\\n\\n\\n\\n\\n\\n\\n\\n\\n\\n\\n\\n\\n\\n\\n\\n\\n\\n\\n\\n\\n\\n\\n\\n\\n\\n\\n\\nBroker 4\\n\\nWe wish to confirm the following transaction which was executed for your account and risk today:\\nClient: Societe Generale Paris | Trader: Trader4@sg.com\\n\\nFINAL CONFIRMATION\\n\\nBroker 4 confirm no: 718449\\n\\nTrade Date: 20-Feb-17\\n\\nTrade Type: Listed\\n\\nUnderlying:                                  Xxxxx_Xxxxxxx      \\n\\nCode: MII\\n\\nExchange: BCLEAR\\n\\nCurrency: USD\\n\\nComment: IICH7M7 @ 0.45% - 20Feb17\\n\\nNotional: N/A\\n\\nUnderlying Buy/Sell Contracts Future Expiry Price\\n\\nFuture Roll Sell 185 Future 17 Mar 2017 545\\n\\nBuy 185 Future 16 Jun 2017 547.453\\n\\nNotional: USD 10 082 500\\nBrokerage Fee:\\n\\nTotal Brokerage Fee: USD 1008\\n\\nOperBroker4@sg.com\\n\\n\\n'"
      ]
     },
     "execution_count": 119,
     "metadata": {},
     "output_type": "execute_result"
    }
   ],
   "source": [
    "parsedPDF = parser.from_file(TrainDataPath)\n",
    "text = parsedPDF['content']\n",
    "text"
   ]
  },
  {
   "cell_type": "code",
   "execution_count": 120,
   "metadata": {},
   "outputs": [],
   "source": [
    "pattern = r'(Buy|Sell) \\d+' # FOR BROKER 4 Buy Sell\n",
    "temp = re.findall(pattern, text)"
   ]
  },
  {
   "cell_type": "code",
   "execution_count": 121,
   "metadata": {},
   "outputs": [
    {
     "data": {
      "text/plain": [
       "['Sell', 'Buy']"
      ]
     },
     "execution_count": 121,
     "metadata": {},
     "output_type": "execute_result"
    }
   ],
   "source": [
    "temp"
   ]
  },
  {
   "cell_type": "code",
   "execution_count": null,
   "metadata": {},
   "outputs": [],
   "source": []
  },
  {
   "cell_type": "code",
   "execution_count": 172,
   "metadata": {},
   "outputs": [],
   "source": [
    "TrainDataPath = './data_broker/participant_data/train/Listed trade  KRX DEC17 MAY17 230 1x2 PS    @2 7 #4   ELI-920464555 ELI-920465005 ELI-920464556 .msg.pdf'"
   ]
  },
  {
   "cell_type": "code",
   "execution_count": 173,
   "metadata": {},
   "outputs": [
    {
     "data": {
      "text/plain": [
       "'\\n\\n\\n\\n\\n\\n\\n\\n\\n\\n\\n\\n\\n\\n\\n\\n\\n\\n\\n\\n\\n\\n\\n\\n\\n\\n\\n\\n\\n\\n\\n\\n\\n\\n\\n\\n\\n\\n\\n\\n\\n\\n\\n\\n\\n\\n\\n\\n\\n\\n\\n\\nTrade Confirmation\\n\\n\\nTrade Ref 0000073903/1/S\\n\\nTrade Date 04 January 2017\\n\\nPremium Payment Date 05 January 2017\\n\\nUnderlying XXXX\\nStrategy European 1x2 Calendar Put Spread\\n\\nTO\\n\\n65,750,000,000.0 for the DEC17 230 Put , 131,500,000,000.0 for the MAY17 230 Put \\n\\nListed Options Crossed\\n\\nTrade Confirmation\\n\\nTotal Premium (KRW) 675,000,000.0\\n\\nFuture Ref (KRW) 263.000000\\n\\nSettlement Details\\n\\nCash settlement with T+1.\\n\\nOther Terms\\n\\nSettlement price to be determined by the official SQ of the index. The difference between the strike and the settlement price determines the amount in the money. Cash \\nsettlement in KRW on expiry with 1 business day direct to the counterparty from expiry dates: T+1 days in KRW.\\n\\nFX Rate used for brokerage calculation:1208.1\\n\\nNotional Amount (KRW)\\n\\nFROM\\nThe Honorable Charles W. Anderson (Dear Mr. Ambassador:)\\nDepartment of State\\n2050 Bamako Place\\nWashington, DC 20521-2050\\n\\nOperbrokers5@sg.com\\n\\nDelta % 2.00\\n\\nNon-Swapswire Trade\\n\\nCommencement Date 04 January 2017\\n\\nListed Trade Confirmation for KOSPI 200 Index (KRW) - Local strike and local settlement\\n\\nImplied Spot Ref (KRW) 263.000000\\n\\nTrade Hedge for Societe Generale, Paris\\n\\nDescription DEC17 MAY17 230 1x2 PS\\n\\nPrice 2.7000\\n\\n1,633.00Total Commission (USD)\\n\\nNo of Options Expiry C/P Premium per Unit (KRW) Premium per Leg (KRW)B/S Strike (KRW)\\n\\n500 DEC 17 (12/14/2017) 230.000000 PUT 4.700000 1,175,000,000.0Sell\\n\\n1,000 MAY 17 (5/11/2017) 230.000000 PUT 1.000000 500,000,000.0Buy\\n\\nSELL 50 Mini Future Exp -  MAR 17  (3/9/2017) @ 263.00 - YYY\\n\\nOption Buyer YYYY\\n\\nOption Seller Societe Generale, Paris\\n\\noper 5 \\nSG blr\\n\\n\\n'"
      ]
     },
     "execution_count": 173,
     "metadata": {},
     "output_type": "execute_result"
    }
   ],
   "source": [
    "parsedPDF = parser.from_file(TrainDataPath)\n",
    "text = parsedPDF['content']\n",
    "text"
   ]
  },
  {
   "cell_type": "code",
   "execution_count": 174,
   "metadata": {},
   "outputs": [],
   "source": [
    "pattern = r'(Buy|Sell|BUY|SELL)[\\n\\n|\\d ]+' # FOR BROKER 5 Buy Sell\n",
    "temp = re.findall(pattern, text)"
   ]
  },
  {
   "cell_type": "code",
   "execution_count": 175,
   "metadata": {},
   "outputs": [
    {
     "data": {
      "text/plain": [
       "['Sell', 'Buy', 'SELL']"
      ]
     },
     "execution_count": 175,
     "metadata": {},
     "output_type": "execute_result"
    }
   ],
   "source": [
    "temp"
   ]
  },
  {
   "cell_type": "code",
   "execution_count": null,
   "metadata": {},
   "outputs": [],
   "source": []
  },
  {
   "cell_type": "code",
   "execution_count": 181,
   "metadata": {},
   "outputs": [],
   "source": [
    "TrainDataPath = './data_broker/participant_data/train/LT-831936886 889 and LT-831936887 890 and LT-831936888 891.pdf'"
   ]
  },
  {
   "cell_type": "code",
   "execution_count": 182,
   "metadata": {},
   "outputs": [
    {
     "data": {
      "text/plain": [
       "\"\\n\\n\\n\\n\\n\\n\\n\\n\\n\\n\\n\\n\\n\\n\\n\\n\\n\\n\\n\\n\\n\\n\\n\\n\\n\\n\\n\\n\\n\\n\\n\\n \\n\\n \\n\\n \\n\\nXxxxxxxxxX \\n26/F Entertainment Building, 30 Queen's Road Central, Hong Kong Telex 75220 DTAHK \\n\\nPhone XxxxxxxxxX \\nFax XxxxxxxxxxX \\n\\nTo: XxxxxxxxxX \\nXxxxxxxxx Xxxxxxxxxxx \\n\\n \\n\\n22-Jan-2016 \\n\\nOFF-AUCTION TRADE * *TRADE EXECUTED ON SGX \\nEXCHANGE** \\n\\nFINAL TRADE CONFIRMATION Deal Number 108052 \\n \\n\\nWe wish to confirm the following transaction which was arranged for your account and risk \\n\\nBuyer XxxxxxxxxxxxxxxX \\nXxxxxxxxxxxxxxxX \\n\\nSeller \\nXxxxxxxxx Xxxxxxxxxxx \\nXxxxxxxxxX \\n\\nTrade Date 22-Jan-16 \\n\\nUnderlying Nikkei 225 Index \\n\\nProduct European Style March 2016 SQ 17000 Call \\n\\nExecution time In the morning of 25-Jan-16 \\n\\nExpiration 11-Mar-16 \\n\\nSize / Premium 200 lots at 785 JPY \\n\\nBreakdown \\nsell 200 lots at 785 JPY March 2016 SQ 17000 Call \\n\\n \\n\\n\\n\\n \\n\\n \\n\\nFuture Setting 16,900 March 2016 SGX Nikkei 225 Index Futures \\n\\nReference 16,900 \\n\\nDelta / Hedge \\n51.00% \\n\\nbuy 102 lots March 2016 SGX Nikkei 225 Index Futures \\n\\nSettlement \\nBoth counterparties shall apply the conditions of trading on SGX. \\nAutomatic exercise at expiry. \\n\\nBrokerage 38,025 yen \\nXxxxxxxxxX \\nXxxxxxxxxX \\n \\n\\n\\n\""
      ]
     },
     "execution_count": 182,
     "metadata": {},
     "output_type": "execute_result"
    }
   ],
   "source": [
    "parsedPDF = parser.from_file(TrainDataPath)\n",
    "text = parsedPDF['content']\n",
    "text"
   ]
  },
  {
   "cell_type": "code",
   "execution_count": 183,
   "metadata": {},
   "outputs": [],
   "source": [
    "pattern = r'(Buy|Sell|BUY|SELL|buy|sell) \\d+' # FOR LT Buy Sell\n",
    "temp = re.findall(pattern, text)"
   ]
  },
  {
   "cell_type": "code",
   "execution_count": 184,
   "metadata": {},
   "outputs": [
    {
     "data": {
      "text/plain": [
       "['sell', 'buy']"
      ]
     },
     "execution_count": 184,
     "metadata": {},
     "output_type": "execute_result"
    }
   ],
   "source": [
    "temp"
   ]
  },
  {
   "cell_type": "code",
   "execution_count": null,
   "metadata": {},
   "outputs": [],
   "source": []
  },
  {
   "cell_type": "code",
   "execution_count": 185,
   "metadata": {},
   "outputs": [
    {
     "data": {
      "text/plain": [
       "\"\\n\\n\\n\\n\\n\\n\\n\\n\\n\\n\\n\\n\\n\\n\\n\\n\\n\\n\\n\\n\\n\\n\\n\\n\\n\\n\\n\\n\\n\\n\\n\\n\\n\\nTRADE DETAILS\\n\\nUnderlying / Strategy: HSCEI / Straddle Currency: HKD OTC / Exchange: Listed\\n\\nBuyer of Strategy:Societe Generale ParisYour Trader:                                                                Trader4@sg.con \\n\\nPremium Payment Date: 1 Business day Basis: Nil Hedge Cross Level: 10,100\\n\\nDelta Hedge: April 2017 Future\\n\\nSociete Generale Paris No. Units Ratio Maturity Str/Ctct Price Style Premium Total Prem Spot X Size\\n\\nBought 200 1.0 28 Dec 2017 10,000 European Call HKD 520 HKD104,000 101,000,000.00\\n\\nBought 200 1.0 28 Dec 2017 10,000 European Put HKD 694 HKD138,800 101,000,000.00\\n\\nTotal net premium per strategy / on whole strategy due: HKD 1,214 HKD 242,800.00\\n\\nOTHER TERMS:\\n\\nTrading HSCEI DEC'17 10000 STRADDLE @ 1,214.\\n\\nSettlement type: Cash settlement on settlement date vs official SQ of HSCEI on expiry date.\\n\\nBROKERAGE:\\n\\nBroker:                                                         OperBOrker4@sg.com Brokerage: HKD 6,060.00\\n\\nBroker 4\\nThe Honorable Charles W. Anderson (Dear Mr. Ambassador:)\\nDepartment of State\\n2050 Bamako Place\\nWashington, DC 20521-2050\\n\\n\\n\""
      ]
     },
     "execution_count": 185,
     "metadata": {},
     "output_type": "execute_result"
    }
   ],
   "source": [
    "TrainDataPath = './data_broker/participant_data/train/OTCexGroup Backoffice Confirmation HSCEI DEC\\'17 10000 STRADDLE  TD April 21  2017   ELI-945980185 184.msg.pdf'\n",
    "parsedPDF = parser.from_file(TrainDataPath)\n",
    "text = parsedPDF['content']\n",
    "text"
   ]
  },
  {
   "cell_type": "code",
   "execution_count": 187,
   "metadata": {},
   "outputs": [
    {
     "data": {
      "text/plain": [
       "['Bought', 'Bought']"
      ]
     },
     "execution_count": 187,
     "metadata": {},
     "output_type": "execute_result"
    }
   ],
   "source": [
    "pattern = r'(Buy|Sell|BUY|SELL|buy|sell|Bought|Sold) \\d+' # FOR Broker 4 Buy Sell\n",
    "temp = re.findall(pattern, text)\n",
    "temp"
   ]
  },
  {
   "cell_type": "code",
   "execution_count": null,
   "metadata": {},
   "outputs": [],
   "source": []
  },
  {
   "cell_type": "code",
   "execution_count": null,
   "metadata": {},
   "outputs": [],
   "source": []
  },
  {
   "cell_type": "code",
   "execution_count": 201,
   "metadata": {},
   "outputs": [
    {
     "data": {
      "text/plain": [
       "'\\n\\n\\n\\n\\n\\n\\n\\n\\n\\n\\n\\n\\n\\n\\n\\n\\n\\n\\n\\n\\n\\n\\n\\n\\n\\n\\n\\n\\n\\n\\n\\n\\nh79408_confirm_Buyer\\n\\n\\nHONG KONG\\n\\nPowered by mBOSStm\\n\\nTRADE CONFIRMATION REFERENCE: broker179408\\n\\nTO SG, Broker1\\n\\nTRADER oper1\\n\\nTRANSMISSION Email (oper1@sg.com) \\n\\nTRADE DATE 08 February 2017\\n\\nUNDERLYING ASSET NAME Asset\\n\\nREUTERS INSTRUMENT CODE .AS200\\n\\nBLOOMBERG CODE AS2\\n\\nSTRUCTURE TYPE Risk Reversal\\n\\nSETTLEMENT CURRENCY India INR\\n\\nDELTA 75%\\n\\nEXCHANGE Indian Exchange\\n\\nSWAPSWIRE No\\n\\nSUMMARY OF TRADES\\n\\nOPTION TRADES\\n\\nLeg YOU: No. of Units Maturity Strike ExerciseStyle Leg Price Per Option Total Premium\\n\\na BUY 400 14 Dec 2017 250 European Put 6.75 1,350,000,000\\n\\nb SELL 400 14 Dec 2017 290 European Call 5.5 1,100,000,000\\n\\nNet Premium 250,000,000 KRW\\n\\nLISTED FUTURES TRADES\\n\\nLeg YOU: No. of Units Maturity Cross / Level\\n\\nc BUY 228 9 Mar 2017 268\\n\\nOTHER TERMS FX: 1146\\n\\nCOUNTERPARTY Exchange\\n\\nNET AMOUNT DUE TO COUNTERPARTY  250,000,000\\n\\nBROKER1 BROKERS HONG KONG BROKERAGE FEE US Dollars 1,403 \\n\\n\\n\\th79408_confirm_Buyer\\n\\n'"
      ]
     },
     "execution_count": 201,
     "metadata": {},
     "output_type": "execute_result"
    }
   ],
   "source": [
    "### STRIKE \n",
    "TrainDataPath = './data_broker/participant_data/train/Broker1 Brokers Hong Kong LTD  Trade Confirmation broker179408 - Asset - Risk Reversal  ELI-928664471 4492 4526.msg.pdf'\n",
    "parsedPDF = parser.from_file(TrainDataPath)\n",
    "text = parsedPDF['content']\n",
    "text"
   ]
  },
  {
   "cell_type": "code",
   "execution_count": 202,
   "metadata": {},
   "outputs": [
    {
     "data": {
      "text/plain": [
       "['250', '290']"
      ]
     },
     "execution_count": 202,
     "metadata": {},
     "output_type": "execute_result"
    }
   ],
   "source": [
    "pattern = r'\\d+ [a-zA-Z]+ \\d{2,4} (\\d+,?\\d+) ' # FOR Broker 1 Strike Rate\n",
    "temp = re.findall(pattern, text)\n",
    "temp"
   ]
  },
  {
   "cell_type": "code",
   "execution_count": null,
   "metadata": {},
   "outputs": [],
   "source": []
  },
  {
   "cell_type": "code",
   "execution_count": null,
   "metadata": {},
   "outputs": [],
   "source": []
  },
  {
   "cell_type": "code",
   "execution_count": 203,
   "metadata": {},
   "outputs": [
    {
     "data": {
      "text/plain": [
       "'\\n\\n\\n\\n\\n\\n\\n\\n\\n\\n\\n\\n\\n\\n\\n\\n\\n\\n\\n\\n\\n\\n\\n\\n\\n\\n\\n\\n\\nTrade confirm TT019659 on trade date 06 Jun 2017\\n\\nWe are pleased to confirm the details of your Equity Derivatives transaction\\n\\nOther terms\\n\\nTrade details\\n\\nBrokerage\\n\\nCalculated by Basis points (Impliedspot) Our broker EuroSS Consumer Rate 0.7 + 0 Brokerage EUR 244.65\\n\\nMarket Euronext Paris Underlying xxxxxxxxxxxxx Strategy Calendar putspread\\nOTC/\\nExchange Exchange\\n\\nCurrency Euro (EUR)\\n\\nBuyer of Strategy xxxxxxxxxxxxx Your trader xxxxxxxxxxxxx\\n\\nOption premium\\npayment date as per exchange Implied spot level 46.6\\n\\nDelta hedge Underlying Hedge cross level 46.6\\n\\nOptions crossed on MONEP. Delta 3% agreed on the JUL. 2,250 stock crossed via Link @ 46.60. Buyer of put cal buys stock, Seller of put cal sells stock. SOCGEN buys\\nstock.\\n\\nYou No. Units Multiplier Maturity Settlement Str/Ctct Price Style Instrument % Premium Prem/Ins (EUR) Total Prem Spot X Size\\n\\nBought 750 100 21 Jul 2017 Close 46 American Put N/A 1.4 105,000 3,495,000\\n\\nSold 750 100 16 Jun 2017 Close 46 American Put N/A 0.76 57,000 3,495,000\\n\\nEUR 0.64 48,000Total net premium per strategy / on whole strategy due\\n\\nBroker 2\\n\\n\\n'"
      ]
     },
     "execution_count": 203,
     "metadata": {},
     "output_type": "execute_result"
    }
   ],
   "source": [
    "### STRIKE \n",
    "TrainDataPath = './data_broker/participant_data/train/Broker2Test1 ELI-956821550 ELI-956814794 ELI-956821553 (5).pdf'\n",
    "parsedPDF = parser.from_file(TrainDataPath)\n",
    "text = parsedPDF['content']\n",
    "text"
   ]
  },
  {
   "cell_type": "code",
   "execution_count": 205,
   "metadata": {},
   "outputs": [
    {
     "data": {
      "text/plain": [
       "['06', '46', '46', '2017', '46', '46']"
      ]
     },
     "execution_count": 205,
     "metadata": {},
     "output_type": "execute_result"
    }
   ],
   "source": [
    "pattern = r'[Close|N/A] (\\d+,?\\d+)' # FOR Broker 2 Strike Rate\n",
    "temp = re.findall(pattern, text)\n",
    "temp"
   ]
  },
  {
   "cell_type": "code",
   "execution_count": null,
   "metadata": {},
   "outputs": [],
   "source": []
  },
  {
   "cell_type": "code",
   "execution_count": 223,
   "metadata": {},
   "outputs": [
    {
     "data": {
      "text/plain": [
       "'\\n\\n\\n\\n\\n\\n\\n\\n\\n\\n\\n\\n\\n\\n\\n\\n\\n\\n\\n\\n\\n\\n\\n\\n\\n\\n\\n\\n\\nTrade confirm SW024507 on trade date 13 Jun 2017\\n\\nWe are pleased to confirm the details of your Equity Derivatives transaction\\n\\nOther terms\\n\\nTrade details\\n\\nBrokerage\\n\\nCalculated by Per contract Our broker SMI Rate 1 Brokerage CHF 300\\n\\nMarket Eurex Underlying xxxxxxxxxxxxx Strategy Put OTC/Exchange Exchange\\n\\nCurrency Swiss Franc (CHF)\\n\\nSeller of Strategy xxxxxxxxxxxxxxx Your trader xxxxxxxxxxxxx\\n\\nOption premium\\npayment date Implied spot level 8,860\\n\\nDelta hedge Underlying Hedge cross level 8,860\\n\\nDELTA 47. you SELL 141 JUNE SMI futures @ 8860\\n\\nYou No. Units Multiplier Maturity Settlement Str/Ctct Price Style Instrument % Premium Prem/Ins (CHF) Total Prem Spot X Size\\n\\nSold 300 10 15 Dec 2017 N/A 8,800 European Put N/A 330 990,000 26,580,000\\n\\nCHF 330 990,000Total net premium per strategy / on whole strategy due\\n\\nBroker 2\\n\\n\\n'"
      ]
     },
     "execution_count": 223,
     "metadata": {},
     "output_type": "execute_result"
    }
   ],
   "source": [
    "### STRIKE \n",
    "TrainDataPath = './data_broker/participant_data/train/Broker2Test1 ELI-958616944(4).pdf'\n",
    "parsedPDF = parser.from_file(TrainDataPath)\n",
    "text = parsedPDF['content']\n",
    "text"
   ]
  },
  {
   "cell_type": "code",
   "execution_count": 274,
   "metadata": {},
   "outputs": [
    {
     "data": {
      "text/plain": [
       "[]"
      ]
     },
     "execution_count": 274,
     "metadata": {},
     "output_type": "execute_result"
    }
   ],
   "source": [
    "pattern = r'\\d+ [a-zA-Z]+ \\d{4} [Close|N/A] (\\d+,?\\d+)' # FOR Broker 2 Strike Rate\n",
    "temp = re.findall(pattern, text)\n",
    "temp"
   ]
  },
  {
   "cell_type": "code",
   "execution_count": null,
   "metadata": {},
   "outputs": [],
   "source": []
  },
  {
   "cell_type": "code",
   "execution_count": 277,
   "metadata": {},
   "outputs": [
    {
     "data": {
      "text/plain": [
       "'\\n\\n\\n\\n\\n\\n\\n\\n\\n\\n\\n\\n\\n\\n\\n\\n\\n\\n\\n\\n\\n\\n\\n\\n\\n\\n\\n\\n\\n\\n\\n\\n\\n26/F Entertainment Building, 30 Queen’s Road Central, Hong Kong \\n\\n \\n\\nConfirmation Deal No. 3001/2015050363-0 \\n\\n \\n\\nCalls/Puts Price Per Option Premium \\n\\nCall 800 8,000,000.00 HKD \\n\\nPut 600 6,000,000.00 HKD \\n\\nCall 1200 6,000,000.00 HKD \\nPut 1495 7,475,000.00 HKD \\n\\n \\n\\nNet Premium 525,000.00 HKD \\n \\n\\nXxxxxxxxxX \\nTelex 75220 DTAHK \\n\\nTel xxxxxxxxxxxx \\n\\nFax xxxxxxxxxxxx \\n\\nWe wish to confirm the following transaction which was arranged for your account and risk \\n\\nHedge 0.18 delta Sells 18 Oct 15 futures crossed @ 10500 \\n\\nBrokerage 4,200.00 HKD \\n\\nAn invoice for payment will be sent separately to you at month end. Thank you for this trade. \\n\\nXxxxxxxxx Xxxxxxxxxxx \\n\\nTerms will be defined as per exchange rules and regulations / ISDA OTC equity index confirmation definitions unless otherwise agreed between counterparties. \\n\\nCounterparties affirm possession of proper licensing rights. \\n\\nUnderlying Hang Seng China Enterprises Index  \\n\\nOption European 2 : 1 : Ratio Calendar Straddle Swap \\n\\nLegs Volume Expiry Strike \\nYou Buy 200 Listed 30 Mar 2016 10400 \\n\\nYou Buy 200 Listed 30 Mar 2016 10400 \\n\\nYou Sell 100 Listed 28 Dec 2017 10400 \\n\\nYou Sell 100 Listed 28 Dec 2017 10400 \\n\\n\\n'"
      ]
     },
     "execution_count": 277,
     "metadata": {},
     "output_type": "execute_result"
    }
   ],
   "source": [
    "### STRIKE \n",
    "TrainDataPath = './data_broker/participant_data/train/Confirmation Deal No  2015050363 - HSCEI  Hang Seng China Enterprises Index  GF - 808220907 908 909 910 911.msg.pdf'\n",
    "parsedPDF = parser.from_file(TrainDataPath)\n",
    "text = parsedPDF['content']\n",
    "text"
   ]
  },
  {
   "cell_type": "code",
   "execution_count": 325,
   "metadata": {},
   "outputs": [
    {
     "data": {
      "text/plain": [
       "['10500']"
      ]
     },
     "execution_count": 325,
     "metadata": {},
     "output_type": "execute_result"
    }
   ],
   "source": [
    "pattern = r'\\d+ [a-zA-Z]+ \\d{2,4} futures crossed @ (\\d+,?\\d+)' # FOR confirmation deal no Strike Rate\n",
    "temp = re.findall(pattern, text) \n",
    "temp"
   ]
  },
  {
   "cell_type": "code",
   "execution_count": null,
   "metadata": {},
   "outputs": [],
   "source": []
  },
  {
   "cell_type": "code",
   "execution_count": 337,
   "metadata": {},
   "outputs": [
    {
     "data": {
      "text/plain": [
       "'\\n\\n\\n\\n\\n\\n\\n\\n\\n\\n\\n\\n\\n\\n\\n\\n\\n\\n\\n\\n\\n\\n\\n\\n\\n\\n\\n\\n\\n\\n\\n\\n\\n\\n\\n\\n\\n\\n\\n\\n\\n\\n\\n\\n\\n\\n\\n\\n\\n\\n\\n\\nTrade Confirmation\\n\\n\\nTrade Ref 0000072511/1/B\\n\\nTrade Date 08 December 2016\\n\\nPremium Payment Date 09 December 2016\\n\\nUnderlying KOSPI 200 Index (KRW)\\n\\nStrategy European Put (0.5)\\n\\nTO\\n\\n25,650,000,000.0\\n\\nListed Options Crossed\\n\\nTrade Confirmation\\n\\nTotal Premium (KRW) 257,500,000.0\\n\\nFuture Ref (KRW) 256.500000\\n\\nSettlement Details\\n\\nCash settlement with T+1.\\n\\nOther Terms\\n\\nSettlement price to be determined by the official SQ of the index. The difference between the strike and the settlement price determines the amount in the money. Cash \\nsettlement in KRW on expiry with 1 business day direct to the counterparty from expiry dates: T+1 days in KRW.\\n\\nFX Rate used for brokerage calculation: 1159.20\\n\\nNotional Amount (KRW)\\n\\nFROM\\n\\nDelta % 24.00\\n\\nNon-Swapswire Trade\\n\\nCommencement Date 08 December 2016\\n\\nListed Trade Confirmation for KOSPI 200 Index (KRW) - Local strike and local settlement\\n\\nImplied Spot Ref (KRW) 256.500000\\n\\nTrade Hedge for Societe Generale, Paris\\n\\nDescription MAR17 245 Put\\n\\nPrice 2.5750\\n\\n664.00Total Commission (USD)\\n\\nOper5\\n\\nSG, BLR\\n\\nNo of Options Expiry C/P Premium per Unit (KRW) Premium per Leg (KRW)B/S Strike (KRW)\\n\\n100 MAR 17 (3/9/2017) 245.000000 PUT 2.580000 129,000,000.0Buy\\n\\n100 MAR 17 (3/9/2017) 245.000000 PUT 2.570000 128,500,000.0Buy\\n\\nThe Honorable Charles W. Anderson (Dear Mr. Ambassador:)\\nDepartment of State\\n2050 Bamako Place\\nWashington, DC 20521-2050\\n\\nEmail: operbrokers5@sg.com\\n\\nBUY 48 Future Exp -  MAR 17  (3/9/2017) @ 256.50 - UBS AG, London\\n\\nOption Buyer Societe Generale, Paris\\n\\nOption Seller UBS AG, London\\n\\n\\n'"
      ]
     },
     "execution_count": 337,
     "metadata": {},
     "output_type": "execute_result"
    }
   ],
   "source": [
    "### STRIKE \n",
    "TrainDataPath = './data_broker/participant_data/train/UNWIND FUTURES  Listed trade  KRX MAR17 245 Put      @2 575 ELI-914355083 ELI-914355084ELI-914355085.msg.pdf'\n",
    "parsedPDF = parser.from_file(TrainDataPath)\n",
    "text = parsedPDF['content']\n",
    "text"
   ]
  },
  {
   "cell_type": "code",
   "execution_count": 366,
   "metadata": {},
   "outputs": [
    {
     "data": {
      "text/plain": [
       "[('', '245.000000'), ('', '245.000000'), ('256.50', '')]"
      ]
     },
     "execution_count": 366,
     "metadata": {},
     "output_type": "execute_result"
    }
   ],
   "source": [
    "pattern = r'\\(.+\\)\\s\\@\\s(\\d+.?\\d+)|\\d+ [a-zA-Z]+ \\d{2,4} \\(.+\\)\\s(\\d+.?\\d+)' \n",
    "temp = re.findall(pattern, text)  \n",
    "temp # JUN 17 (6/8/2017)"
   ]
  },
  {
   "cell_type": "code",
   "execution_count": null,
   "metadata": {},
   "outputs": [],
   "source": []
  },
  {
   "cell_type": "code",
   "execution_count": null,
   "metadata": {},
   "outputs": [],
   "source": []
  },
  {
   "cell_type": "code",
   "execution_count": null,
   "metadata": {},
   "outputs": [],
   "source": []
  },
  {
   "cell_type": "code",
   "execution_count": null,
   "metadata": {},
   "outputs": [],
   "source": []
  },
  {
   "cell_type": "code",
   "execution_count": 367,
   "metadata": {},
   "outputs": [],
   "source": [
    "# Currency"
   ]
  },
  {
   "cell_type": "code",
   "execution_count": 368,
   "metadata": {},
   "outputs": [
    {
     "data": {
      "text/plain": [
       "'\\n\\n\\n\\n\\n\\n\\n\\n\\n\\n\\n\\n\\n\\n\\n\\n\\n\\n\\n\\n\\n\\n\\n\\n\\n\\n\\n\\n\\n\\n\\n\\n\\nh71411_confirm_Buyer\\n\\n\\nHONG KONG\\n\\nPowered by mBOSStm\\n\\nTRADE CONFIRMATION REFERENCE: Broker171411\\n\\nTO SG,Broker1\\n\\nTRADER oper1\\n\\nTRANSMISSION Email (oper1@sg.com) \\n\\nTRADE DATE 23 August 2016\\n\\nUNDERLYING ASSET NAME Asset\\n\\nREUTERS INSTRUMENT CODE .AS200\\n\\nBLOOMBERG CODE AS2\\n\\nSTRUCTURE TYPE Put\\n\\nSETTLEMENT CURRENCY India INR\\n\\nDELTA 51%\\n\\nEXCHANGE Indian Exchange\\n\\nSWAPSWIRE No\\n\\nSUMMARY OF TRADES\\n\\nOPTION TRADES\\n\\nLeg YOU: No. of Units Maturity Strike ExerciseStyle Leg Price Per Option Total Premium\\n\\na BUY 300 8 Dec 2016 240 European Put 2.05 307,500,000\\n\\nNet Premium 307,500,000 KRW\\n\\nLISTED FUTURES TRADES\\n\\nLeg YOU: No. of Units Maturity Cross / Level\\n\\nb BUY 45 8 Sep 2016 258\\n\\nOTHER TERMS FX: 1115.60\\n\\nCOUNTERPARTY Exchange\\n\\nNET AMOUNT DUE TO COUNTERPARTY  307,500,000\\n\\nBroker1 BROKERS HONG KONG BROKERAGE FEE US Dollars 1,041 \\n\\nBroker1 BROKERS HONG KONG PAYMENT DETAILS FOR BANK TRANSFERS\\n\\n\\n\\th71411_confirm_Buyer\\n\\n'"
      ]
     },
     "execution_count": 368,
     "metadata": {},
     "output_type": "execute_result"
    }
   ],
   "source": [
    "### STRIKE \n",
    "TrainDataPath = './data_broker/participant_data/train/AMENDED      Broker1 Brokers Hong Kong LTD  Trade Confirmation h71411 - Kospi 200 - Put  ELI-886528062 886528063.msg.pdf'\n",
    "parsedPDF = parser.from_file(TrainDataPath)\n",
    "text = parsedPDF['content']\n",
    "text"
   ]
  },
  {
   "cell_type": "code",
   "execution_count": 378,
   "metadata": {},
   "outputs": [
    {
     "data": {
      "text/plain": [
       "[]"
      ]
     },
     "execution_count": 378,
     "metadata": {},
     "output_type": "execute_result"
    }
   ],
   "source": [
    "pattern = r'BUY (\\d+)'\n",
    "temp = re.findall(pattern, text)  \n",
    "temp # JUN 17 (6/8/2017)"
   ]
  },
  {
   "cell_type": "code",
   "execution_count": null,
   "metadata": {},
   "outputs": [],
   "source": [
    "!"
   ]
  },
  {
   "cell_type": "code",
   "execution_count": null,
   "metadata": {},
   "outputs": [],
   "source": []
  },
  {
   "cell_type": "code",
   "execution_count": null,
   "metadata": {},
   "outputs": [],
   "source": []
  }
 ],
 "metadata": {
  "kernelspec": {
   "display_name": "Python 3",
   "language": "python",
   "name": "python3"
  },
  "language_info": {
   "codemirror_mode": {
    "name": "ipython",
    "version": 3
   },
   "file_extension": ".py",
   "mimetype": "text/x-python",
   "name": "python",
   "nbconvert_exporter": "python",
   "pygments_lexer": "ipython3",
   "version": "3.5.4"
  }
 },
 "nbformat": 4,
 "nbformat_minor": 2
}
